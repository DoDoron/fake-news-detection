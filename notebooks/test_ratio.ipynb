{
 "cells": [
  {
   "cell_type": "code",
   "execution_count": 2,
   "id": "5b34e905",
   "metadata": {},
   "outputs": [],
   "source": [
    "from pathlib import Path\n",
    "import os\n",
    "import sys\n",
    "import pandas as pd\n",
    "from IPython.display import display\n",
    "\n",
    "PROJECT_ROOT = Path('..').resolve()\n",
    "if str(PROJECT_ROOT) not in sys.path:\n",
    "    sys.path.append(str(PROJECT_ROOT))\n",
    "\n",
    "from core.config import load_training_config\n",
    "from core.data import available_datasets, build_datasets\n",
    "from core.train_eval import train_and_evaluate\n",
    "from core.utils import setup_logging\n",
    "from model import MODEL_REGISTRY\n",
    "\n",
    "setup_logging()\n",
    "CONFIG_PATH = PROJECT_ROOT / 'configs' / 'default.yaml'\n",
    "BASE_CONFIG = load_training_config(CONFIG_PATH)\n",
    "RUN_HISTORY = []\n"
   ]
  },
  {
   "cell_type": "code",
   "execution_count": null,
   "id": "2960778d",
   "metadata": {},
   "outputs": [
    {
     "name": "stdout",
     "output_type": "stream",
     "text": [
      "Available datasets: ['fake-news-classification', 'fake-news-detection-datasets', 'llm-fake-news']\n",
      "Selected dataset: fake-news-detection-datasets\n"
     ]
    }
   ],
   "source": [
    "dataset_names = available_datasets()\n",
    "if not dataset_names:\n",
    "    raise RuntimeError('No datasets found in dataset/.')\n",
    "DATASET_NAME = dataset_names[1]  # change if you want a different dataset\n",
    "print('Available datasets:', dataset_names)\n",
    "print('Selected dataset:', DATASET_NAME)"
   ]
  },
  {
   "cell_type": "code",
   "execution_count": null,
   "id": "4a9dc6ed",
   "metadata": {},
   "outputs": [
    {
     "data": {
      "text/html": [
       "<div>\n",
       "<style scoped>\n",
       "    .dataframe tbody tr th:only-of-type {\n",
       "        vertical-align: middle;\n",
       "    }\n",
       "\n",
       "    .dataframe tbody tr th {\n",
       "        vertical-align: top;\n",
       "    }\n",
       "\n",
       "    .dataframe thead th {\n",
       "        text-align: right;\n",
       "    }\n",
       "</style>\n",
       "<table border=\"1\" class=\"dataframe\">\n",
       "  <thead>\n",
       "    <tr style=\"text-align: right;\">\n",
       "      <th></th>\n",
       "      <th>title</th>\n",
       "      <th>text</th>\n",
       "      <th>label</th>\n",
       "    </tr>\n",
       "  </thead>\n",
       "  <tbody>\n",
       "    <tr>\n",
       "      <th>0</th>\n",
       "      <td>Palestinians switch off Christmas lights in Be...</td>\n",
       "      <td>RAMALLAH, West Bank (Reuters) - Palestinians s...</td>\n",
       "      <td>1</td>\n",
       "    </tr>\n",
       "    <tr>\n",
       "      <th>1</th>\n",
       "      <td>China says Trump call with Taiwan president wo...</td>\n",
       "      <td>BEIJING (Reuters) - U.S. President-elect Donal...</td>\n",
       "      <td>1</td>\n",
       "    </tr>\n",
       "    <tr>\n",
       "      <th>2</th>\n",
       "      <td>FAIL! The Trump Organization’s Credit Score W...</td>\n",
       "      <td>While the controversy over Trump s personal ta...</td>\n",
       "      <td>0</td>\n",
       "    </tr>\n",
       "    <tr>\n",
       "      <th>3</th>\n",
       "      <td>Zimbabwe military chief's China trip was norma...</td>\n",
       "      <td>BEIJING (Reuters) - A trip to Beijing last wee...</td>\n",
       "      <td>1</td>\n",
       "    </tr>\n",
       "    <tr>\n",
       "      <th>4</th>\n",
       "      <td>THE MOST UNCOURAGEOUS PRESIDENT EVER Receives ...</td>\n",
       "      <td>There has never been a more UNCOURAGEOUS perso...</td>\n",
       "      <td>0</td>\n",
       "    </tr>\n",
       "  </tbody>\n",
       "</table>\n",
       "</div>"
      ],
      "text/plain": [
       "                                               title  \\\n",
       "0  Palestinians switch off Christmas lights in Be...   \n",
       "1  China says Trump call with Taiwan president wo...   \n",
       "2   FAIL! The Trump Organization’s Credit Score W...   \n",
       "3  Zimbabwe military chief's China trip was norma...   \n",
       "4  THE MOST UNCOURAGEOUS PRESIDENT EVER Receives ...   \n",
       "\n",
       "                                                text  label  \n",
       "0  RAMALLAH, West Bank (Reuters) - Palestinians s...      1  \n",
       "1  BEIJING (Reuters) - U.S. President-elect Donal...      1  \n",
       "2  While the controversy over Trump s personal ta...      0  \n",
       "3  BEIJING (Reuters) - A trip to Beijing last wee...      1  \n",
       "4  There has never been a more UNCOURAGEOUS perso...      0  "
      ]
     },
     "execution_count": 4,
     "metadata": {},
     "output_type": "execute_result"
    }
   ],
   "source": [
    "first_data_path = \"/Users/dorong/Desktop/hackerthonTA/fake-news-detection/dataset/fake-news-classification\"\n",
    "\n",
    "data1train = pd.read_csv(os.path.join(first_data_path, 'train.csv'), sep=';', index_col=0)\n",
    "data1val = pd.read_csv(os.path.join(first_data_path, 'val.csv'), sep=';', index_col=0)\n",
    "data1test = pd.read_csv(os.path.join(first_data_path, 'test.csv'), sep=';', index_col=0)\n",
    "# data1train과 data1val 합치기\n",
    "dataset_1 = pd.concat([data1train, data1val], ignore_index=True)\n",
    "dataset_1.head(5)\n",
    "\n",
    "# # CSV 파일로 저장\n",
    "# output_path = \"/Users/dorong/Desktop/hackerthonTA/fake-news-detection/dataset/fake-news-classification/dataset1.csv\"\n",
    "# dataset1.to_csv(output_path, sep=';', index=False)\n",
    "\n",
    "# print(f\"dataset1.csv 생성 완료!\")\n",
    "# print(f\"총 행 수: {len(dataset1)}\")\n",
    "# print(f\"train: {len(data1train)}, val: {len(data1val)}, 합계: {len(dataset1)}\")"
   ]
  },
  {
   "cell_type": "code",
   "execution_count": null,
   "id": "e681c2cd",
   "metadata": {},
   "outputs": [
    {
     "name": "stdout",
     "output_type": "stream",
     "text": [
      "2694\n"
     ]
    }
   ],
   "source": [
    "third_data_path = \"/Users/dorong/Desktop/hackerthonTA/fake-news-detection/dataset/fake-news-detection-datasets\"\n",
    "data3train = pd.read_csv(os.path.join(third_data_path, 'train.csv'))\n",
    "data3test = pd.read_csv(os.path.join(third_data_path, 'test.csv'))\n",
    "dataset_3 = data3train.sample(frac=0.1, random_state=42)\n",
    "print(len(data3train_sample))"
   ]
  },
  {
   "cell_type": "code",
   "execution_count": null,
   "id": "9e7c3343",
   "metadata": {},
   "outputs": [
    {
     "name": "stdout",
     "output_type": "stream",
     "text": [
      "2320\n"
     ]
    }
   ],
   "source": [
    "fourth_data_path = \"/Users/dorong/Desktop/hackerthonTA/fake-news-detection/dataset/llm-fake-news\"\n",
    "data4train = pd.read_csv(os.path.join(fourth_data_path, 'train.csv'))\n",
    "data4test = pd.read_csv(os.path.join(fourth_data_path, 'test.csv'))\n",
    "\n",
    "dataset_4 = data4train.sample(frac=0.01, random_state=42)\n",
    "print(len(data4train_sample))"
   ]
  },
  {
   "cell_type": "code",
   "execution_count": null,
   "id": "82aee3fb",
   "metadata": {},
   "outputs": [
    {
     "name": "stdout",
     "output_type": "stream",
     "text": [
      "Available models: ['bow_mlp', 'cnn_text', 'bilstm', 'tiny_transformer']\n",
      "Selected model: bilstm\n"
     ]
    }
   ],
   "source": [
    "MODEL_OPTIONS = list(MODEL_REGISTRY.keys())\n",
    "MODEL_NAME = MODEL_OPTIONS[2]  # change to try other models\n",
    "print('Available models:', MODEL_OPTIONS)\n",
    "print('Selected model:', MODEL_NAME)\n",
    "EPOCHS = 2  # feel free to increase once things run\n"
   ]
  },
  {
   "cell_type": "code",
   "execution_count": null,
   "id": "37b05608",
   "metadata": {},
   "outputs": [
    {
     "name": "stderr",
     "output_type": "stream",
     "text": [
      "[2025-10-10 16:40:22] INFO fake_news: Starting training | dataset=fake-news-detection-datasets model=bilstm epochs=2 batch_size=64\n",
      "[2025-10-10 16:40:36] INFO fake_news: Epoch 1 | train_loss=0.1104 val_loss=0.0024 val_f1=0.9993\n",
      "[2025-10-10 16:40:51] INFO fake_news: Epoch 2 | train_loss=0.0052 val_loss=0.0012 val_f1=0.9998\n",
      "[2025-10-10 16:41:01] INFO fake_news: Training complete | best_val_f1=0.9998 run_dir=/home/gamejoongsa/hackathon/runs/fake-news-detection-datasets/bilstm/20251010_074022\n"
     ]
    },
    {
     "data": {
      "text/plain": [
       "{'train': {'accuracy': 0.9996658994728637,\n",
       "  'precision': 0.9996737984511883,\n",
       "  'recall': 0.9996566440627783,\n",
       "  'f1': 0.9996651865962032,\n",
       "  'auroc': 0.9999577806649476,\n",
       "  'loss': 0.001968211633749226},\n",
       " 'val': {'accuracy': 0.999777258046553,\n",
       "  'precision': 0.99977678580307,\n",
       "  'recall': 0.99977678580307,\n",
       "  'f1': 0.99977678580307,\n",
       "  'auroc': 0.999999801123335,\n",
       "  'loss': 0.001180805862987403},\n",
       " 'test': {'accuracy': 0.999109230597929,\n",
       "  'precision': 0.9991176683124665,\n",
       "  'recall': 0.9990970804615935,\n",
       "  'f1': 0.9991073245210828,\n",
       "  'auroc': 0.9998260605782303,\n",
       "  'loss': 0.004000036923826411}}"
      ]
     },
     "metadata": {},
     "output_type": "display_data"
    }
   ],
   "source": [
    "config = load_training_config(CONFIG_PATH, overrides={'epochs': EPOCHS})\n",
    "loaders, vocab, tokenizer, info = build_datasets(\n",
    "    name=DATASET_NAME,\n",
    "    batch_size=config.batch_size,\n",
    "    max_len=config.max_len,\n",
    "    num_workers=config.num_workers,\n",
    "    max_vocab_size=20000,\n",
    ")\n",
    "model_cls = MODEL_REGISTRY[MODEL_NAME]\n",
    "model = model_cls(vocab_size=len(vocab), num_classes=2)\n",
    "results, run_dir = train_and_evaluate(\n",
    "    model,\n",
    "    loaders,\n",
    "    config,\n",
    "    dataset_name=DATASET_NAME,\n",
    "    model_name=MODEL_NAME,\n",
    "    run_root=PROJECT_ROOT / 'runs',\n",
    ")\n",
    "RUN_HISTORY.append({'dataset': DATASET_NAME, 'model': MODEL_NAME, 'results': results, 'run_dir': str(run_dir)})\n",
    "results\n"
   ]
  }
 ],
 "metadata": {
  "kernelspec": {
   "display_name": "smartray",
   "language": "python",
   "name": "python3"
  },
  "language_info": {
   "codemirror_mode": {
    "name": "ipython",
    "version": 3
   },
   "file_extension": ".py",
   "mimetype": "text/x-python",
   "name": "python",
   "nbconvert_exporter": "python",
   "pygments_lexer": "ipython3",
   "version": "3.10.16"
  }
 },
 "nbformat": 4,
 "nbformat_minor": 5
}
