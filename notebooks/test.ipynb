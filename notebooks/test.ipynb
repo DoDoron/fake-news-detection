{
 "cells": [
  {
   "cell_type": "markdown",
   "metadata": {},
   "source": [
    "# Experiment Playground\n",
    "Use this notebook to train and evaluate models on any dataset discovered in `dataset/`.\n",
    "Set the dataset and model identifiers in the cells below before running the training cell."
   ]
  },
  {
   "cell_type": "code",
   "execution_count": 16,
   "metadata": {},
   "outputs": [],
   "source": [
    "from pathlib import Path\n",
    "import os\n",
    "import sys\n",
    "import pandas as pd\n",
    "from IPython.display import display\n",
    "\n",
    "PROJECT_ROOT = Path('..').resolve()\n",
    "if str(PROJECT_ROOT) not in sys.path:\n",
    "    sys.path.append(str(PROJECT_ROOT))\n",
    "\n",
    "from core.config import load_training_config\n",
    "from core.data import available_datasets, build_datasets\n",
    "from core.train_eval import train_and_evaluate\n",
    "from core.utils import setup_logging\n",
    "from model import MODEL_REGISTRY\n",
    "\n",
    "setup_logging()\n",
    "CONFIG_PATH = PROJECT_ROOT / 'configs' / 'default.yaml'\n",
    "BASE_CONFIG = load_training_config(CONFIG_PATH)\n",
    "RUN_HISTORY = []\n"
   ]
  },
  {
   "cell_type": "code",
   "execution_count": null,
   "metadata": {},
   "outputs": [
    {
     "name": "stdout",
     "output_type": "stream",
     "text": [
      "Available datasets: ['fake-news-classification', 'fake-news-detection-datasets', 'llm-fake-news']\n",
      "Selected dataset: fake-news-detection-datasets\n"
     ]
    }
   ],
   "source": [
    "dataset_names = available_datasets()\n",
    "if not dataset_names:\n",
    "    raise RuntimeError('No datasets found in dataset/.')\n",
    "DATASET_NAME = dataset_names[1]  # change if you want a different dataset\n",
    "print('Available datasets:', dataset_names)\n",
    "print('Selected dataset:', DATASET_NAME)"
   ]
  },
  {
   "cell_type": "code",
   "execution_count": 11,
   "id": "b020f6a5",
   "metadata": {},
   "outputs": [
    {
     "name": "stdout",
     "output_type": "stream",
     "text": [
      "26938\n",
      "8981\n",
      "8979\n"
     ]
    }
   ],
   "source": [
    "third_data_path = \"/Users/dorong/Desktop/hackerthonTA/fake-news-detection/dataset/fake-news-detection-datasets\"\n",
    "data3train = pd.read_csv(os.path.join(third_data_path, 'train.csv'))\n",
    "data3test = pd.read_csv(os.path.join(third_data_path, 'test.csv'))\n",
    "data3val = pd.read_csv(os.path.join(third_data_path, 'val.csv'))\n",
    "\n",
    "print(len(data3train))\n",
    "print(len(data3test))\n",
    "print(len(data3val))"
   ]
  },
  {
   "cell_type": "code",
   "execution_count": 13,
   "id": "576855d2",
   "metadata": {},
   "outputs": [
    {
     "name": "stdout",
     "output_type": "stream",
     "text": [
      "232003\n",
      "38666\n",
      "38666\n"
     ]
    }
   ],
   "source": [
    "fourth_data_path = \"/Users/dorong/Desktop/hackerthonTA/fake-news-detection/dataset/llm-fake-news\"\n",
    "data4train = pd.read_csv(os.path.join(fourth_data_path, 'train.csv'))\n",
    "data4test = pd.read_csv(os.path.join(fourth_data_path, 'test.csv'))\n",
    "data4val = pd.read_csv(os.path.join(fourth_data_path, 'val.csv'))\n",
    "\n",
    "print(len(data4train))\n",
    "print(len(data4test))\n",
    "print(len(data4val))"
   ]
  },
  {
   "cell_type": "code",
   "execution_count": 11,
   "metadata": {},
   "outputs": [
    {
     "name": "stdout",
     "output_type": "stream",
     "text": [
      "Available models: ['bow_mlp', 'cnn_text', 'bilstm', 'tiny_transformer']\n",
      "Selected model: bilstm\n"
     ]
    }
   ],
   "source": [
    "MODEL_OPTIONS = list(MODEL_REGISTRY.keys())\n",
    "MODEL_NAME = MODEL_OPTIONS[2]  # change to try other models\n",
    "print('Available models:', MODEL_OPTIONS)\n",
    "print('Selected model:', MODEL_NAME)\n",
    "EPOCHS = 2  # feel free to increase once things run\n"
   ]
  },
  {
   "cell_type": "code",
   "execution_count": 12,
   "metadata": {},
   "outputs": [
    {
     "name": "stderr",
     "output_type": "stream",
     "text": [
      "[2025-10-10 16:40:22] INFO fake_news: Starting training | dataset=fake-news-detection-datasets model=bilstm epochs=2 batch_size=64\n",
      "[2025-10-10 16:40:36] INFO fake_news: Epoch 1 | train_loss=0.1104 val_loss=0.0024 val_f1=0.9993\n",
      "[2025-10-10 16:40:51] INFO fake_news: Epoch 2 | train_loss=0.0052 val_loss=0.0012 val_f1=0.9998\n",
      "[2025-10-10 16:41:01] INFO fake_news: Training complete | best_val_f1=0.9998 run_dir=/home/gamejoongsa/hackathon/runs/fake-news-detection-datasets/bilstm/20251010_074022\n"
     ]
    },
    {
     "data": {
      "text/plain": [
       "{'train': {'accuracy': 0.9996658994728637,\n",
       "  'precision': 0.9996737984511883,\n",
       "  'recall': 0.9996566440627783,\n",
       "  'f1': 0.9996651865962032,\n",
       "  'auroc': 0.9999577806649476,\n",
       "  'loss': 0.001968211633749226},\n",
       " 'val': {'accuracy': 0.999777258046553,\n",
       "  'precision': 0.99977678580307,\n",
       "  'recall': 0.99977678580307,\n",
       "  'f1': 0.99977678580307,\n",
       "  'auroc': 0.999999801123335,\n",
       "  'loss': 0.001180805862987403},\n",
       " 'test': {'accuracy': 0.999109230597929,\n",
       "  'precision': 0.9991176683124665,\n",
       "  'recall': 0.9990970804615935,\n",
       "  'f1': 0.9991073245210828,\n",
       "  'auroc': 0.9998260605782303,\n",
       "  'loss': 0.004000036923826411}}"
      ]
     },
     "execution_count": 12,
     "metadata": {},
     "output_type": "execute_result"
    }
   ],
   "source": [
    "config = load_training_config(CONFIG_PATH, overrides={'epochs': EPOCHS})\n",
    "loaders, vocab, tokenizer, info = build_datasets(\n",
    "    name=DATASET_NAME,\n",
    "    batch_size=config.batch_size,\n",
    "    max_len=config.max_len,\n",
    "    num_workers=config.num_workers,\n",
    "    max_vocab_size=20000,\n",
    ")\n",
    "model_cls = MODEL_REGISTRY[MODEL_NAME]\n",
    "model = model_cls(vocab_size=len(vocab), num_classes=2)\n",
    "results, run_dir = train_and_evaluate(\n",
    "    model,\n",
    "    loaders,\n",
    "    config,\n",
    "    dataset_name=DATASET_NAME,\n",
    "    model_name=MODEL_NAME,\n",
    "    run_root=PROJECT_ROOT / 'runs',\n",
    ")\n",
    "RUN_HISTORY.append({'dataset': DATASET_NAME, 'model': MODEL_NAME, 'results': results, 'run_dir': str(run_dir)})\n",
    "results\n"
   ]
  },
  {
   "cell_type": "code",
   "execution_count": 13,
   "metadata": {},
   "outputs": [
    {
     "data": {
      "text/html": [
       "<div>\n",
       "<style scoped>\n",
       "    .dataframe tbody tr th:only-of-type {\n",
       "        vertical-align: middle;\n",
       "    }\n",
       "\n",
       "    .dataframe tbody tr th {\n",
       "        vertical-align: top;\n",
       "    }\n",
       "\n",
       "    .dataframe thead th {\n",
       "        text-align: right;\n",
       "    }\n",
       "</style>\n",
       "<table border=\"1\" class=\"dataframe\">\n",
       "  <thead>\n",
       "    <tr style=\"text-align: right;\">\n",
       "      <th></th>\n",
       "      <th>accuracy</th>\n",
       "      <th>precision</th>\n",
       "      <th>recall</th>\n",
       "      <th>f1</th>\n",
       "      <th>auroc</th>\n",
       "      <th>loss</th>\n",
       "    </tr>\n",
       "  </thead>\n",
       "  <tbody>\n",
       "    <tr>\n",
       "      <th>train</th>\n",
       "      <td>0.999666</td>\n",
       "      <td>0.999674</td>\n",
       "      <td>0.999657</td>\n",
       "      <td>0.999665</td>\n",
       "      <td>0.999958</td>\n",
       "      <td>0.001968</td>\n",
       "    </tr>\n",
       "    <tr>\n",
       "      <th>val</th>\n",
       "      <td>0.999777</td>\n",
       "      <td>0.999777</td>\n",
       "      <td>0.999777</td>\n",
       "      <td>0.999777</td>\n",
       "      <td>1.000000</td>\n",
       "      <td>0.001181</td>\n",
       "    </tr>\n",
       "    <tr>\n",
       "      <th>test</th>\n",
       "      <td>0.999109</td>\n",
       "      <td>0.999118</td>\n",
       "      <td>0.999097</td>\n",
       "      <td>0.999107</td>\n",
       "      <td>0.999826</td>\n",
       "      <td>0.004000</td>\n",
       "    </tr>\n",
       "  </tbody>\n",
       "</table>\n",
       "</div>"
      ],
      "text/plain": [
       "       accuracy  precision    recall        f1     auroc      loss\n",
       "train  0.999666   0.999674  0.999657  0.999665  0.999958  0.001968\n",
       "val    0.999777   0.999777  0.999777  0.999777  1.000000  0.001181\n",
       "test   0.999109   0.999118  0.999097  0.999107  0.999826  0.004000"
      ]
     },
     "metadata": {},
     "output_type": "display_data"
    },
    {
     "data": {
      "image/png": "[encoded data removed]",
      "text/plain": [
       "<IPython.core.display.Image object>"
      ]
     },
     "metadata": {},
     "output_type": "display_data"
    }
   ],
   "source": [
    "from IPython.display import Image\n",
    "latest = RUN_HISTORY[-1]\n",
    "metrics_df = pd.DataFrame(latest['results']).T\n",
    "display(metrics_df)\n",
    "cm_path = Path(latest['run_dir']) / 'confusion_matrix.png'\n",
    "if cm_path.exists():\n",
    "    display(Image(filename=str(cm_path)))\n",
    "else:\n",
    "    print('Confusion matrix not available for this run.')\n"
   ]
  },
  {
   "cell_type": "code",
   "execution_count": 14,
   "metadata": {},
   "outputs": [
    {
     "data": {
      "text/html": [
       "<div>\n",
       "<style scoped>\n",
       "    .dataframe tbody tr th:only-of-type {\n",
       "        vertical-align: middle;\n",
       "    }\n",
       "\n",
       "    .dataframe tbody tr th {\n",
       "        vertical-align: top;\n",
       "    }\n",
       "\n",
       "    .dataframe thead th {\n",
       "        text-align: right;\n",
       "    }\n",
       "</style>\n",
       "<table border=\"1\" class=\"dataframe\">\n",
       "  <thead>\n",
       "    <tr style=\"text-align: right;\">\n",
       "      <th></th>\n",
       "      <th>dataset</th>\n",
       "      <th>model</th>\n",
       "      <th>val_accuracy</th>\n",
       "      <th>val_precision</th>\n",
       "      <th>val_recall</th>\n",
       "      <th>val_f1</th>\n",
       "      <th>val_auroc</th>\n",
       "      <th>val_loss</th>\n",
       "    </tr>\n",
       "  </thead>\n",
       "  <tbody>\n",
       "    <tr>\n",
       "      <th>0</th>\n",
       "      <td>fake-news-detection-datasets</td>\n",
       "      <td>bow_mlp</td>\n",
       "      <td>0.979285</td>\n",
       "      <td>0.979164</td>\n",
       "      <td>0.979333</td>\n",
       "      <td>0.979245</td>\n",
       "      <td>0.997783</td>\n",
       "      <td>0.062230</td>\n",
       "    </tr>\n",
       "    <tr>\n",
       "      <th>1</th>\n",
       "      <td>fake-news-detection-datasets</td>\n",
       "      <td>cnn_text</td>\n",
       "      <td>1.000000</td>\n",
       "      <td>1.000000</td>\n",
       "      <td>1.000000</td>\n",
       "      <td>1.000000</td>\n",
       "      <td>1.000000</td>\n",
       "      <td>0.000615</td>\n",
       "    </tr>\n",
       "    <tr>\n",
       "      <th>2</th>\n",
       "      <td>fake-news-detection-datasets</td>\n",
       "      <td>bilstm</td>\n",
       "      <td>0.999777</td>\n",
       "      <td>0.999777</td>\n",
       "      <td>0.999777</td>\n",
       "      <td>0.999777</td>\n",
       "      <td>1.000000</td>\n",
       "      <td>0.001181</td>\n",
       "    </tr>\n",
       "  </tbody>\n",
       "</table>\n",
       "</div>"
      ],
      "text/plain": [
       "                        dataset     model  val_accuracy  val_precision  \\\n",
       "0  fake-news-detection-datasets   bow_mlp      0.979285       0.979164   \n",
       "1  fake-news-detection-datasets  cnn_text      1.000000       1.000000   \n",
       "2  fake-news-detection-datasets    bilstm      0.999777       0.999777   \n",
       "\n",
       "   val_recall    val_f1  val_auroc  val_loss  \n",
       "0    0.979333  0.979245   0.997783  0.062230  \n",
       "1    1.000000  1.000000   1.000000  0.000615  \n",
       "2    0.999777  0.999777   1.000000  0.001181  "
      ]
     },
     "metadata": {},
     "output_type": "display_data"
    }
   ],
   "source": [
    "summary_rows = []\n",
    "for record in RUN_HISTORY:\n",
    "    row = {\n",
    "        'dataset': record['dataset'],\n",
    "        'model': record['model'],\n",
    "    }\n",
    "    val_metrics = record['results'].get('val', {})\n",
    "    for key, value in val_metrics.items():\n",
    "        row[f'val_{key}'] = value\n",
    "    summary_rows.append(row)\n",
    "if summary_rows:\n",
    "    display(pd.DataFrame(summary_rows))\n",
    "else:\n",
    "    print('Run the training cell to populate the summary.')\n"
   ]
  },
  {
   "cell_type": "code",
   "execution_count": null,
   "id": "ad7c8850",
   "metadata": {},
   "outputs": [],
   "source": []
  }
 ],
 "metadata": {
  "kernelspec": {
   "display_name": "smartray",
   "language": "python",
   "name": "python3"
  },
  "language_info": {
   "codemirror_mode": {
    "name": "ipython",
    "version": 3
   },
   "file_extension": ".py",
   "mimetype": "text/x-python",
   "name": "python",
   "nbconvert_exporter": "python",
   "pygments_lexer": "ipython3",
   "version": "3.10.16"
  }
 },
 "nbformat": 4,
 "nbformat_minor": 5
}
