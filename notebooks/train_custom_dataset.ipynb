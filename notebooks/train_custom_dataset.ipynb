{
 "cells": [
  {
   "cell_type": "markdown",
   "metadata": {},
   "source": [
    "# Custom Dataset Training\n",
    "Dataset 1, 3, 4를 합쳐서 학습하는 노트북"
   ]
  },
  {
   "cell_type": "code",
   "execution_count": null,
   "metadata": {},
   "outputs": [],
   "source": [
    "from pathlib import Path\n",
    "import os\n",
    "import sys\n",
    "import pandas as pd\n",
    "from IPython.display import display\n",
    "\n",
    "PROJECT_ROOT = Path('..').resolve()\n",
    "if str(PROJECT_ROOT) not in sys.path:\n",
    "    sys.path.append(str(PROJECT_ROOT))\n",
    "\n",
    "from core.config import load_training_config\n",
    "from core.data import available_datasets, build_datasets\n",
    "from core.train_eval import train_and_evaluate\n",
    "from core.utils import setup_logging\n",
    "from model import MODEL_REGISTRY\n",
    "\n",
    "setup_logging()\n",
    "CONFIG_PATH = PROJECT_ROOT / 'configs' / 'default.yaml'\n",
    "BASE_CONFIG = load_training_config(CONFIG_PATH)\n",
    "RUN_HISTORY = []"
   ]
  },
  {
   "cell_type": "markdown",
   "metadata": {},
   "source": [
    "## 1. 하이퍼파라미터 설정"
   ]
  },
  {
   "cell_type": "code",
   "execution_count": null,
   "id": "238016c2",
   "metadata": {},
   "outputs": [],
   "source": [
    "DATASET_3_LEN = 232003\n",
    "DATASET_4_LEN = 232003\n"
   ]
  },
  {
   "cell_type": "code",
   "execution_count": null,
   "metadata": {},
   "outputs": [],
   "source": [
    "# 데이터셋 샘플링 비율\n",
    "DATASET_3_RATIO = 0.1   # Dataset 3 샘플링 비율 (10%)\n",
    "DATASET_4_RATIO = 0.01  # Dataset 4 샘플링 비율 (1%)\n",
    "\n",
    "# Train/Val split 비율\n",
    "TRAIN_VAL_RATIO = 0.8   # Train 80%, Val 20%\n",
    "\n",
    "# 랜덤 시드\n",
    "RANDOM_SEED = 42\n",
    "\n",
    "# 출력 데이터셋 이름\n",
    "OUTPUT_DATASET_NAME = \"custom-dataset\"\n",
    "\n",
    "print(f\"Dataset 3 sampling ratio: {DATASET_3_RATIO:.1%}\")\n",
    "print(f\"Dataset 4 sampling ratio: {DATASET_4_RATIO:.1%}\")\n",
    "print(f\"Train/Val ratio: {TRAIN_VAL_RATIO:.0%} / {(1-TRAIN_VAL_RATIO):.0%}\")\n",
    "print(f\"Random seed: {RANDOM_SEED}\")"
   ]
  },
  {
   "cell_type": "markdown",
   "metadata": {},
   "source": [
    "## 2. 데이터셋 준비"
   ]
  },
  {
   "cell_type": "code",
   "execution_count": null,
   "metadata": {},
   "outputs": [],
   "source": [
    "# 데이터셋 준비 스크립트 실행\n",
    "!cd .. && python prepare_custom_dataset.py --dataset3-ratio {DATASET_3_RATIO} --dataset4-ratio {DATASET_4_RATIO} --train-val-ratio {TRAIN_VAL_RATIO} --seed {RANDOM_SEED} --output-name {OUTPUT_DATASET_NAME}"
   ]
  },
  {
   "cell_type": "markdown",
   "metadata": {},
   "source": [
    "## 3. 데이터셋 로드 및 학습"
   ]
  },
  {
   "cell_type": "code",
   "execution_count": null,
   "metadata": {},
   "outputs": [],
   "source": [
    "DATASET_NAME = OUTPUT_DATASET_NAME\n",
    "MODEL_NAME = 'bilstm'\n",
    "EPOCHS = 5\n",
    "\n",
    "config = load_training_config(CONFIG_PATH, overrides={'epochs': EPOCHS})\n",
    "loaders, vocab, tokenizer, info = build_datasets(\n",
    "    name=DATASET_NAME,\n",
    "    batch_size=config.batch_size,\n",
    "    max_len=config.max_len,\n",
    "    num_workers=config.num_workers,\n",
    "    max_vocab_size=20000,\n",
    ")\n",
    "\n",
    "model_cls = MODEL_REGISTRY[MODEL_NAME]\n",
    "model = model_cls(vocab_size=len(vocab), num_classes=2)\n",
    "\n",
    "results, run_dir = train_and_evaluate(\n",
    "    model,\n",
    "    loaders,\n",
    "    config,\n",
    "    dataset_name=DATASET_NAME,\n",
    "    model_name=MODEL_NAME,\n",
    "    run_root=PROJECT_ROOT / 'runs',\n",
    ")\n",
    "\n",
    "results"
   ]
  }
 ],
 "metadata": {
  "kernelspec": {
   "display_name": "Python 3",
   "language": "python",
   "name": "python3"
  },
  "language_info": {
   "name": "python",
   "version": "3.10.16"
  }
 },
 "nbformat": 4,
 "nbformat_minor": 5
}
